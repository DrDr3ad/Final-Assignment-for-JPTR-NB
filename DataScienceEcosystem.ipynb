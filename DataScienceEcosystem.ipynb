{
 "cells": [
  {
   "cell_type": "markdown",
   "id": "e3dc247f-4495-48e1-945a-401498279076",
   "metadata": {},
   "source": [
    "## Author: Rasheid Smith"
   ]
  },
  {
   "cell_type": "markdown",
   "id": "44f554f4-6be5-4a4e-9eb9-7ce3ea94d22b",
   "metadata": {
    "tags": []
   },
   "source": [
    "#### Excercise 2\n",
    "# Data Science Tools and Ecosystem\n",
    "\n"
   ]
  },
  {
   "cell_type": "markdown",
   "id": "7e2932b4-529f-406d-af54-abe9f6b06443",
   "metadata": {
    "tags": []
   },
   "source": [
    "#### Excercise 3\n",
    "In this Notebook, Data Science Tools and Ecosystem are summarized."
   ]
  },
  {
   "cell_type": "markdown",
   "id": "4ac1f63d-1495-488e-94ce-d8372a8d2aca",
   "metadata": {},
   "source": [
    "**Objectives:**\n",
    "* Jupyter Note books\n",
    "* Ordered list\n",
    "* Unordered list \n",
    "* Tables\n",
    "* Code cells"
   ]
  },
  {
   "cell_type": "markdown",
   "id": "94bfa555-0d65-466d-a57f-5776a1f8ef3c",
   "metadata": {},
   "source": [
    "#### Excercise 4\n",
    "Some of the popular languages that Data Scientists use are:\n",
    "1. Python\n",
    "2. Julia\n",
    "3. R\n",
    "4. Scala\n",
    "5. Java\n",
    "6. SQL\n",
    "7. C/C++\n",
    "8. SAS"
   ]
  },
  {
   "cell_type": "markdown",
   "id": "7aa17357-ff6a-49c8-9393-c3e431724db8",
   "metadata": {},
   "source": [
    "#### Excercise 5\n",
    "Some common Data Science Libraries include:\n",
    "1. SciKIT\n",
    "2. Matplotlib\n",
    "3. Pandas\n",
    "4. NumPy\n",
    "5. SciPy\n",
    "6. TensorFlow\n",
    "\n"
   ]
  },
  {
   "cell_type": "markdown",
   "id": "e558b32c-5cb3-4c6e-90a1-0fae99e444f1",
   "metadata": {
    "tags": []
   },
   "source": [
    "#### Excercise 6\n",
    "|DataScience Tools|\n",
    "|-----------------|\n",
    "|R Studios    |\n",
    "|Jupyter Labs |\n",
    "|IBM Watson   |\n",
    "|Git Hub      |\n"
   ]
  },
  {
   "cell_type": "markdown",
   "id": "e5243461-32bb-4192-914a-1f0c8a44e8d0",
   "metadata": {
    "tags": []
   },
   "source": [
    "#### Excercise 7\n",
    "### Below are a few examples of evaluating  arithmetic expressions in Python.\n",
    "\n"
   ]
  },
  {
   "cell_type": "markdown",
   "id": "2f49e3b2-e45a-4213-bc16-a9358f60e089",
   "metadata": {},
   "source": [
    "#### Excercise 8"
   ]
  },
  {
   "cell_type": "code",
   "execution_count": 4,
   "id": "f8a31482-046a-4f46-8e3d-1d698b9f9dee",
   "metadata": {},
   "outputs": [
    {
     "data": {
      "text/plain": [
       "17"
      ]
     },
     "execution_count": 4,
     "metadata": {},
     "output_type": "execute_result"
    }
   ],
   "source": [
    "#This a simple arithmetic expression to mutiply then add integers.\n",
    "(3*4)+5\n"
   ]
  },
  {
   "cell_type": "markdown",
   "id": "a4d1164f-121e-4b67-b62d-c8f29ff3c16b",
   "metadata": {},
   "source": [
    "#### Excercise 9\n"
   ]
  },
  {
   "cell_type": "code",
   "execution_count": 5,
   "id": "b37cb13f-b6be-47f8-9110-dc143c7a10c0",
   "metadata": {},
   "outputs": [
    {
     "name": "stdout",
     "output_type": "stream",
     "text": [
      "3.3333333333333335\n"
     ]
    }
   ],
   "source": [
    "# This will convert 200 minutes to hours by dividing by 60.\n",
    "min = 200\n",
    "hours = 200 / 60\n",
    "print (hours)"
   ]
  },
  {
   "cell_type": "code",
   "execution_count": null,
   "id": "6121019a-2b9c-4892-b0ec-ca96e8d54ebd",
   "metadata": {},
   "outputs": [],
   "source": []
  }
 ],
 "metadata": {
  "kernelspec": {
   "display_name": "Python 3 (ipykernel)",
   "language": "python",
   "name": "python3"
  },
  "language_info": {
   "codemirror_mode": {
    "name": "ipython",
    "version": 3
   },
   "file_extension": ".py",
   "mimetype": "text/x-python",
   "name": "python",
   "nbconvert_exporter": "python",
   "pygments_lexer": "ipython3",
   "version": "3.10.9"
  }
 },
 "nbformat": 4,
 "nbformat_minor": 5
}
